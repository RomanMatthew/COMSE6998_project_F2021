{
 "cells": [
  {
   "cell_type": "code",
   "execution_count": 44,
   "metadata": {},
   "outputs": [],
   "source": [
    "import numpy as np\n",
    "import random"
   ]
  },
  {
   "cell_type": "code",
   "execution_count": 45,
   "metadata": {},
   "outputs": [],
   "source": [
    "def generate_simple_rotation(angle_max: float) -> np.array:\n",
    "        \"\"\"\n",
    "        A method to generate a random simple 3D rotation matrix.\n",
    "\n",
    "        A simple 3D rotation is a rotation by one angle theta about one axis, which here is also randomly chosen.\n",
    "\n",
    "        Return: A 3x3 matrix describing a simple rotation transformation.\n",
    "        \"\"\"\n",
    "        theta = random.uniform(0, angle_max)\n",
    "        cos_val, sin_val = np.cos(theta), np.sin(theta)\n",
    "\n",
    "        # Rotation about x\n",
    "        r_x = np.array([[1,       0,        0],\n",
    "                        [0, cos_val, -sin_val],\n",
    "                        [0, sin_val, cos_val]])\n",
    "\n",
    "        # Rotation about y\n",
    "        r_y = np.array([[cos_val,  0, sin_val],\n",
    "                        [0      ,  1,       0],\n",
    "                        [-sin_val, 0, cos_val]])\n",
    "\n",
    "        # Rotation about z\n",
    "        r_z = np.array([[cos_val, -sin_val, 0],\n",
    "                        [sin_val,  cos_val, 0],\n",
    "                        [0      ,  0      , 1]])\n",
    "\n",
    "        return random.choice([r_x, r_y, r_z])"
   ]
  },
  {
   "cell_type": "code",
   "execution_count": 46,
   "metadata": {},
   "outputs": [
    {
     "data": {
      "text/plain": [
       "array([[ 0.94984231, -0.31272927,  0.        ],\n",
       "       [ 0.31272927,  0.94984231,  0.        ],\n",
       "       [ 0.        ,  0.        ,  1.        ]])"
      ]
     },
     "execution_count": 46,
     "metadata": {},
     "output_type": "execute_result"
    }
   ],
   "source": [
    "generate_simple_rotation(0.7)"
   ]
  },
  {
   "cell_type": "code",
   "execution_count": 47,
   "metadata": {},
   "outputs": [],
   "source": [
    "def generate_rotation(angle_max: float) -> np.array:\n",
    "        \"\"\"\n",
    "        A method to generate a random general 3D rotation matrix.\n",
    "\n",
    "        A general 3D rotation matrix is a rotation consisting of roll, pitch,\n",
    "        and yaw angles about all three axes. It can be broken down into a matrix\n",
    "        product of rotations about x by roll angle gamma, about y by pitch angle\n",
    "        beta, and about z by roll angle alpha.\n",
    "\n",
    "        Return: A 3x3 matrix describing a general rotation transformation.\n",
    "        \"\"\"\n",
    "        rot_angles = np.random.uniform(low=0.0, high=angle_max, size=3)\n",
    "        alpha, beta, gamma = rot_angles[0], rot_angles[1], rot_angles[2]\n",
    "        \n",
    "        return np.array([[np.cos(alpha)*np.cos(beta), np.cos(alpha)*np.sin(beta)*np.sin(gamma)-np.sin(alpha)*np.cos(gamma), np.cos(alpha)*np.sin(beta)*np.cos(gamma)+np.sin(alpha)*np.sin(gamma)],\n",
    "        [np.sin(alpha)*np.cos(beta), np.sin(alpha)*np.sin(beta)*np.sin(gamma)+np.cos(alpha)*np.cos(gamma), np.sin(alpha)*np.sin(beta)*np.cos(gamma)-np.cos(alpha)*np.sin(gamma)],\n",
    "        [-np.sin(beta), np.cos(beta)*np.sin(gamma), np.cos(beta)*np.cos(gamma)]])"
   ]
  },
  {
   "cell_type": "code",
   "execution_count": 48,
   "metadata": {},
   "outputs": [
    {
     "data": {
      "text/plain": [
       "array([[ 0.91407394, -0.3787981 ,  0.14484764],\n",
       "       [ 0.37941103,  0.92490493,  0.02445672],\n",
       "       [-0.14323446,  0.03260154,  0.98915167]])"
      ]
     },
     "execution_count": 48,
     "metadata": {},
     "output_type": "execute_result"
    }
   ],
   "source": [
    "generate_rotation(0.7)"
   ]
  },
  {
   "cell_type": "code",
   "execution_count": null,
   "metadata": {},
   "outputs": [],
   "source": []
  }
 ],
 "metadata": {
  "kernelspec": {
   "display_name": "Python 3",
   "language": "python",
   "name": "python3"
  },
  "language_info": {
   "codemirror_mode": {
    "name": "ipython",
    "version": 3
   },
   "file_extension": ".py",
   "mimetype": "text/x-python",
   "name": "python",
   "nbconvert_exporter": "python",
   "pygments_lexer": "ipython3",
   "version": "3.7.1"
  }
 },
 "nbformat": 4,
 "nbformat_minor": 2
}
